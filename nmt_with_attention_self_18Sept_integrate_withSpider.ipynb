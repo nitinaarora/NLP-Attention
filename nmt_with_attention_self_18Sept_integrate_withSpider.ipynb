{
  "nbformat": 4,
  "nbformat_minor": 0,
  "metadata": {
    "colab": {
      "name": "nmt_with_attention_self_18Sept_integrate_withSpider.ipynb",
      "provenance": [],
      "authorship_tag": "ABX9TyPf+J2EDlmLk2encmpxDNx7",
      "include_colab_link": true
    },
    "kernelspec": {
      "name": "python3",
      "display_name": "Python 3"
    },
    "accelerator": "GPU"
  },
  "cells": [
    {
      "cell_type": "markdown",
      "metadata": {
        "id": "view-in-github",
        "colab_type": "text"
      },
      "source": [
        "<a href=\"https://colab.research.google.com/github/nitinaarora/NLP-Attention/blob/master/nmt_with_attention_self_18Sept_integrate_withSpider.ipynb\" target=\"_parent\"><img src=\"https://colab.research.google.com/assets/colab-badge.svg\" alt=\"Open In Colab\"/></a>"
      ]
    },
    {
      "cell_type": "markdown",
      "metadata": {
        "id": "dee0iHGwJjRy",
        "colab_type": "text"
      },
      "source": [
        "#### data from Spider and processing"
      ]
    },
    {
      "cell_type": "code",
      "metadata": {
        "id": "OYZrz5LsJr90",
        "colab_type": "code",
        "colab": {}
      },
      "source": [
        "import tensorflow as tf\n",
        "import matplotlib.pyplot as plt\n",
        "import pandas as pd\n",
        "import numpy as np\n"
      ],
      "execution_count": 1,
      "outputs": []
    },
    {
      "cell_type": "code",
      "metadata": {
        "id": "tbB1uHKCJ6T0",
        "colab_type": "code",
        "colab": {}
      },
      "source": [
        "pip install -q kaggle"
      ],
      "execution_count": 2,
      "outputs": []
    },
    {
      "cell_type": "code",
      "metadata": {
        "id": "U2DYagsVKLan",
        "colab_type": "code",
        "colab": {}
      },
      "source": [
        "! mkdir ~/.kaggle"
      ],
      "execution_count": 3,
      "outputs": []
    },
    {
      "cell_type": "code",
      "metadata": {
        "id": "x14gFDcFKSB1",
        "colab_type": "code",
        "colab": {}
      },
      "source": [
        "! cp kaggle.json ~/.kaggle/"
      ],
      "execution_count": 4,
      "outputs": []
    },
    {
      "cell_type": "code",
      "metadata": {
        "id": "KU61frFvKe3_",
        "colab_type": "code",
        "colab": {}
      },
      "source": [
        "! chmod 600 ~/.kaggle/kaggle.json"
      ],
      "execution_count": 5,
      "outputs": []
    },
    {
      "cell_type": "code",
      "metadata": {
        "id": "zo10TEzuKlMU",
        "colab_type": "code",
        "colab": {
          "base_uri": "https://localhost:8080/",
          "height": 68
        },
        "outputId": "0e0ae98c-815c-4eba-d109-29de018f097b"
      },
      "source": [
        "!kaggle datasets download -d jeromeblanchet/yale-universitys-spider-10-nlp-dataset"
      ],
      "execution_count": 6,
      "outputs": [
        {
          "output_type": "stream",
          "text": [
            "Downloading yale-universitys-spider-10-nlp-dataset.zip to /content\n",
            " 76% 73.0M/96.0M [00:00<00:00, 56.1MB/s]\n",
            "100% 96.0M/96.0M [00:00<00:00, 104MB/s] \n"
          ],
          "name": "stdout"
        }
      ]
    },
    {
      "cell_type": "code",
      "metadata": {
        "id": "HVq--e7AhSoM",
        "colab_type": "code",
        "colab": {
          "base_uri": "https://localhost:8080/",
          "height": 1000
        },
        "outputId": "680a4080-42a7-446c-b72b-7d9fa43a8c0e"
      },
      "source": [
        "!unzip yale-universitys-spider-10-nlp-dataset.zip"
      ],
      "execution_count": 7,
      "outputs": [
        {
          "output_type": "stream",
          "text": [
            "Archive:  yale-universitys-spider-10-nlp-dataset.zip\n",
            "  inflating: spider/README.txt       \n",
            "  inflating: spider/database/academic/academic.sqlite  \n",
            "  inflating: spider/database/academic/schema.sql  \n",
            "  inflating: spider/database/activity_1/activity_1.sqlite  \n",
            "  inflating: spider/database/activity_1/schema.sql  \n",
            "  inflating: spider/database/aircraft/aircraft.sqlite  \n",
            "  inflating: spider/database/aircraft/schema.sql  \n",
            "  inflating: spider/database/allergy_1/allergy_1.sqlite  \n",
            "  inflating: spider/database/allergy_1/schema.sql  \n",
            "  inflating: spider/database/apartment_rentals/apartment_rentals.sqlite  \n",
            "  inflating: spider/database/apartment_rentals/schema.sql  \n",
            "  inflating: spider/database/architecture/architecture.sqlite  \n",
            "  inflating: spider/database/architecture/schema.sql  \n",
            "  inflating: spider/database/assets_maintenance/assets_maintenance.sqlite  \n",
            "  inflating: spider/database/assets_maintenance/schema.sql  \n",
            "  inflating: spider/database/baseball_1/baseball_1.sqlite  \n",
            "  inflating: spider/database/baseball_1/schema.sql  \n",
            "  inflating: spider/database/battle_death/battle_death.sqlite  \n",
            "  inflating: spider/database/battle_death/schema.sql  \n",
            "  inflating: spider/database/behavior_monitoring/behavior_monitoring.sqlite  \n",
            "  inflating: spider/database/behavior_monitoring/schema.sql  \n",
            "  inflating: spider/database/bike_1/bike_1.sqlite  \n",
            "  inflating: spider/database/bike_1/schema.sql  \n",
            "  inflating: spider/database/body_builder/body_builder.sqlite  \n",
            "  inflating: spider/database/body_builder/schema.sql  \n",
            "  inflating: spider/database/book_2/book_2.sqlite  \n",
            "  inflating: spider/database/book_2/schema.sql  \n",
            "  inflating: spider/database/browser_web/browser_web.sqlite  \n",
            "  inflating: spider/database/browser_web/schema.sql  \n",
            "  inflating: spider/database/candidate_poll/candidate_poll.sqlite  \n",
            "  inflating: spider/database/candidate_poll/schema.sql  \n",
            "  inflating: spider/database/car_1/annotation.json  \n",
            "  inflating: spider/database/car_1/car_1.json  \n",
            "  inflating: spider/database/car_1/car_1.sql  \n",
            "  inflating: spider/database/car_1/car_1.sqlite  \n",
            "  inflating: spider/database/car_1/data_csv/README.CARS.TXT  \n",
            "  inflating: spider/database/car_1/data_csv/car-makers.csv  \n",
            "  inflating: spider/database/car_1/data_csv/car-names.csv  \n",
            "  inflating: spider/database/car_1/data_csv/cars-data.csv  \n",
            "  inflating: spider/database/car_1/data_csv/cars.desc  \n",
            "  inflating: spider/database/car_1/data_csv/continents.csv  \n",
            "  inflating: spider/database/car_1/data_csv/countries.csv  \n",
            "  inflating: spider/database/car_1/data_csv/model-list.csv  \n",
            "  inflating: spider/database/car_1/link.txt  \n",
            "  inflating: spider/database/car_1/q.txt  \n",
            "  inflating: spider/database/chinook_1/annotation.json  \n",
            "  inflating: spider/database/chinook_1/chinook_1.sqlite  \n",
            "  inflating: spider/database/cinema/cinema.sqlite  \n",
            "  inflating: spider/database/cinema/schema.sql  \n",
            "  inflating: spider/database/city_record/city_record.sqlite  \n",
            "  inflating: spider/database/city_record/schema.sql  \n",
            "  inflating: spider/database/climbing/climbing.sqlite  \n",
            "  inflating: spider/database/climbing/schema.sql  \n",
            "  inflating: spider/database/club_1/club_1.sqlite  \n",
            "  inflating: spider/database/club_1/schema.sql  \n",
            "  inflating: spider/database/coffee_shop/coffee_shop.sqlite  \n",
            "  inflating: spider/database/coffee_shop/schema.sql  \n",
            "  inflating: spider/database/college_1/TinyCollege.sql  \n",
            "  inflating: spider/database/college_1/college_1.sqlite  \n",
            "  inflating: spider/database/college_1/link.txt  \n",
            "  inflating: spider/database/college_2/TextBookExampleSchema.sql  \n",
            "  inflating: spider/database/college_2/college_2.sqlite  \n",
            "  inflating: spider/database/college_2/link.txt  \n",
            "  inflating: spider/database/college_3/college_3.sqlite  \n",
            "  inflating: spider/database/college_3/schema.sql  \n",
            "  inflating: spider/database/company_1/company_1.sqlite  \n",
            "  inflating: spider/database/company_1/link.txt  \n",
            "  inflating: spider/database/company_employee/company_employee.sqlite  \n",
            "  inflating: spider/database/company_employee/schema.sql  \n",
            "  inflating: spider/database/company_office/company_office.sqlite  \n",
            "  inflating: spider/database/company_office/schema.sql  \n",
            "  inflating: spider/database/concert_singer/concert_singer.sqlite  \n",
            "  inflating: spider/database/concert_singer/schema.sql  \n",
            "  inflating: spider/database/county_public_safety/county_public_safety.sqlite  \n",
            "  inflating: spider/database/county_public_safety/schema.sql  \n",
            "  inflating: spider/database/course_teach/course_teach.sqlite  \n",
            "  inflating: spider/database/course_teach/schema.sql  \n",
            "  inflating: spider/database/cre_Doc_Control_Systems/cre_Doc_Control_Systems.sqlite  \n",
            "  inflating: spider/database/cre_Doc_Control_Systems/schema.sql  \n",
            "  inflating: spider/database/cre_Doc_Template_Mgt/cre_Doc_Template_Mgt.sqlite  \n",
            "  inflating: spider/database/cre_Doc_Template_Mgt/schema.sql  \n",
            "  inflating: spider/database/cre_Doc_Tracking_DB/cre_Doc_Tracking_DB.sqlite  \n",
            "  inflating: spider/database/cre_Doc_Tracking_DB/schema.sql  \n",
            "  inflating: spider/database/cre_Docs_and_Epenses/cre_Docs_and_Epenses.sqlite  \n",
            "  inflating: spider/database/cre_Docs_and_Epenses/schema.sql  \n",
            "  inflating: spider/database/cre_Drama_Workshop_Groups/cre_Drama_Workshop_Groups.sqlite  \n",
            "  inflating: spider/database/cre_Drama_Workshop_Groups/schema.sql  \n",
            "  inflating: spider/database/cre_Theme_park/cre_Theme_park.sqlite  \n",
            "  inflating: spider/database/cre_Theme_park/schema.sql  \n",
            "  inflating: spider/database/csu_1/csu_1.sqlite  \n",
            "  inflating: spider/database/csu_1/schema.sql  \n",
            "  inflating: spider/database/culture_company/culture_company.sqlite  \n",
            "  inflating: spider/database/culture_company/schema.sql  \n",
            "  inflating: spider/database/customer_complaints/customer_complaints.sqlite  \n",
            "  inflating: spider/database/customer_complaints/schema.sql  \n",
            "  inflating: spider/database/customer_deliveries/customer_deliveries.sqlite  \n",
            "  inflating: spider/database/customer_deliveries/schema.sql  \n",
            "  inflating: spider/database/customers_and_addresses/customers_and_addresses.sqlite  \n",
            "  inflating: spider/database/customers_and_addresses/schema.sql  \n",
            "  inflating: spider/database/customers_and_invoices/customers_and_invoices.sqlite  \n",
            "  inflating: spider/database/customers_and_invoices/schema.sql  \n",
            "  inflating: spider/database/customers_and_products_contacts/customers_and_products_contacts.sqlite  \n",
            "  inflating: spider/database/customers_and_products_contacts/schema.sql  \n",
            "  inflating: spider/database/customers_campaigns_ecommerce/customers_campaigns_ecommerce.sqlite  \n",
            "  inflating: spider/database/customers_campaigns_ecommerce/schema.sql  \n",
            "  inflating: spider/database/customers_card_transactions/customers_card_transactions.sqlite  \n",
            "  inflating: spider/database/customers_card_transactions/schema.sql  \n",
            "  inflating: spider/database/debate/debate.sqlite  \n",
            "  inflating: spider/database/debate/schema.sql  \n",
            "  inflating: spider/database/decoration_competition/decoration_competition.sqlite  \n",
            "  inflating: spider/database/decoration_competition/schema.sql  \n",
            "  inflating: spider/database/department_management/department_management.sqlite  \n",
            "  inflating: spider/database/department_management/schema.sql  \n",
            "  inflating: spider/database/department_store/department_store.sqlite  \n",
            "  inflating: spider/database/department_store/schema.sql  \n",
            "  inflating: spider/database/device/device.sqlite  \n",
            "  inflating: spider/database/device/schema.sql  \n",
            "  inflating: spider/database/document_management/document_management.sqlite  \n",
            "  inflating: spider/database/document_management/schema.sql  \n",
            "  inflating: spider/database/dog_kennels/dog_kennels.sqlite  \n",
            "  inflating: spider/database/dog_kennels/schema.sql  \n",
            "  inflating: spider/database/dorm_1/dorm_1.sqlite  \n",
            "  inflating: spider/database/dorm_1/schema.sql  \n",
            "  inflating: spider/database/driving_school/driving_school.sqlite  \n",
            "  inflating: spider/database/driving_school/schema.sql  \n",
            "  inflating: spider/database/e_government/e_government.sqlite  \n",
            "  inflating: spider/database/e_government/schema.sql  \n",
            "  inflating: spider/database/e_learning/e_learning.sqlite  \n",
            "  inflating: spider/database/e_learning/schema.sql  \n",
            "  inflating: spider/database/election/election.sqlite  \n",
            "  inflating: spider/database/election/schema.sql  \n",
            "  inflating: spider/database/election_representative/election_representative.sqlite  \n",
            "  inflating: spider/database/election_representative/schema.sql  \n",
            "  inflating: spider/database/employee_hire_evaluation/employee_hire_evaluation.sqlite  \n",
            "  inflating: spider/database/employee_hire_evaluation/schema.sql  \n",
            "  inflating: spider/database/entertainment_awards/entertainment_awards.sqlite  \n",
            "  inflating: spider/database/entertainment_awards/schema.sql  \n",
            "  inflating: spider/database/entrepreneur/entrepreneur.sqlite  \n",
            "  inflating: spider/database/entrepreneur/schema.sql  \n",
            "  inflating: spider/database/epinions_1/epinions_1.sqlite  \n",
            "  inflating: spider/database/farm/farm.sqlite  \n",
            "  inflating: spider/database/farm/schema.sql  \n",
            "  inflating: spider/database/film_rank/film_rank.sqlite  \n",
            "  inflating: spider/database/film_rank/schema.sql  \n",
            "  inflating: spider/database/flight_1/flight_1.sqlite  \n",
            "  inflating: spider/database/flight_1/schema.sql  \n",
            "  inflating: spider/database/flight_2/annotation.json  \n",
            "  inflating: spider/database/flight_2/data_csv/README.AIRLINES.txt  \n",
            "  inflating: spider/database/flight_2/data_csv/airlines.csv  \n",
            "  inflating: spider/database/flight_2/data_csv/airports100.csv  \n",
            "  inflating: spider/database/flight_2/data_csv/flights.csv  \n",
            "  inflating: spider/database/flight_2/flight_2.json  \n",
            "  inflating: spider/database/flight_2/flight_2.sql  \n",
            "  inflating: spider/database/flight_2/flight_2.sqlite  \n",
            "  inflating: spider/database/flight_2/link.txt  \n",
            "  inflating: spider/database/flight_2/q.txt  \n",
            "  inflating: spider/database/flight_4/flight_4.sqlite  \n",
            "  inflating: spider/database/flight_4/link.txt  \n",
            "  inflating: spider/database/flight_4/sql.txt  \n",
            "  inflating: spider/database/flight_company/flight_company.sqlite  \n",
            "  inflating: spider/database/flight_company/schema.sql  \n",
            "  inflating: spider/database/formula_1/annotation.json  \n",
            "  inflating: spider/database/formula_1/data_csv/circuits.csv  \n",
            "  inflating: spider/database/formula_1/data_csv/constructorResults.csv  \n",
            "  inflating: spider/database/formula_1/data_csv/constructorStandings.csv  \n",
            "  inflating: spider/database/formula_1/data_csv/constructors.csv  \n",
            "  inflating: spider/database/formula_1/data_csv/driverStandings.csv  \n",
            "  inflating: spider/database/formula_1/data_csv/drivers.csv  \n",
            "  inflating: spider/database/formula_1/data_csv/lapTimes.csv  \n",
            "  inflating: spider/database/formula_1/data_csv/pitStops.csv  \n",
            "  inflating: spider/database/formula_1/data_csv/qualifying.csv  \n",
            "  inflating: spider/database/formula_1/data_csv/races.csv  \n",
            "  inflating: spider/database/formula_1/data_csv/results.csv  \n",
            "  inflating: spider/database/formula_1/data_csv/seasons.csv  \n",
            "  inflating: spider/database/formula_1/data_csv/status.csv  \n",
            "  inflating: spider/database/formula_1/formula_1.splite  \n",
            "  inflating: spider/database/formula_1/formula_1.sql  \n",
            "  inflating: spider/database/formula_1/formula_1.sqlite  \n",
            "  inflating: spider/database/game_1/game_1.sqlite  \n",
            "  inflating: spider/database/game_1/schema.sql  \n",
            "  inflating: spider/database/game_injury/game_injury.sqlite  \n",
            "  inflating: spider/database/game_injury/schema.sql  \n",
            "  inflating: spider/database/gas_company/gas_company.sqlite  \n",
            "  inflating: spider/database/gas_company/schema.sql  \n",
            "  inflating: spider/database/geo/geo.sqlite  \n",
            "  inflating: spider/database/geo/schema.sql  \n",
            "  inflating: spider/database/gymnast/gymnast.sqlite  \n",
            "  inflating: spider/database/gymnast/schema.sql  \n",
            "  inflating: spider/database/hospital_1/hospital_1.sqlite  \n",
            "  inflating: spider/database/hospital_1/schema.sql  \n",
            "  inflating: spider/database/hr_1/hr_1.sqlite  \n",
            "  inflating: spider/database/hr_1/schema.sql  \n",
            "  inflating: spider/database/icfp_1/icfp_1.sqlite  \n",
            "  inflating: spider/database/icfp_1/link.txt  \n",
            "  inflating: spider/database/icfp_1/q.txt  \n",
            "  inflating: spider/database/imdb/imdb.sqlite  \n",
            "  inflating: spider/database/imdb/schema.sql  \n",
            "  inflating: spider/database/inn_1/annotation.json  \n",
            "  inflating: spider/database/inn_1/change_date.py  \n",
            "  inflating: spider/database/inn_1/data_csv/README.INN.TXT  \n",
            "  inflating: spider/database/inn_1/data_csv/Reservations.csv  \n",
            "  inflating: spider/database/inn_1/data_csv/Reservations_t.csv  \n",
            "  inflating: spider/database/inn_1/data_csv/Rooms.csv  \n",
            "  inflating: spider/database/inn_1/inn_1.sql  \n",
            "  inflating: spider/database/inn_1/inn_1.sqlite  \n",
            "  inflating: spider/database/inn_1/link.txt  \n",
            "  inflating: spider/database/inn_1/q.txt  \n",
            "  inflating: spider/database/insurance_and_eClaims/insurance_and_eClaims.sqlite  \n",
            "  inflating: spider/database/insurance_and_eClaims/schema.sql  \n",
            "  inflating: spider/database/insurance_fnol/insurance_fnol.sqlite  \n",
            "  inflating: spider/database/insurance_fnol/schema.sql  \n",
            "  inflating: spider/database/insurance_policies/insurance_policies.sqlite  \n",
            "  inflating: spider/database/insurance_policies/schema.sql  \n",
            "  inflating: spider/database/journal_committee/journal_committee.sqlite  \n",
            "  inflating: spider/database/journal_committee/schema.sql  \n",
            "  inflating: spider/database/loan_1/loan_1.sqlite  \n",
            "  inflating: spider/database/loan_1/schema.sql  \n",
            "  inflating: spider/database/local_govt_and_lot/local_govt_and_lot.sqlite  \n",
            "  inflating: spider/database/local_govt_and_lot/schema.sql  \n",
            "  inflating: spider/database/local_govt_in_alabama/local_govt_in_alabama.sqlite  \n",
            "  inflating: spider/database/local_govt_in_alabama/schema.sql  \n",
            "  inflating: spider/database/local_govt_mdm/local_govt_mdm.sqlite  \n",
            "  inflating: spider/database/local_govt_mdm/schema.sql  \n",
            "  inflating: spider/database/machine_repair/machine_repair.sqlite  \n",
            "  inflating: spider/database/machine_repair/schema.sql  \n",
            "  inflating: spider/database/manufactory_1/manufactory_1.sqlite  \n",
            "  inflating: spider/database/manufactory_1/schema.sql  \n",
            "  inflating: spider/database/manufacturer/manufacturer.sqlite  \n",
            "  inflating: spider/database/manufacturer/schema.sql  \n",
            "  inflating: spider/database/match_season/match_season.sqlite  \n",
            "  inflating: spider/database/match_season/schema.sql  \n",
            "  inflating: spider/database/medicine_enzyme_interaction/medicine_enzyme_interaction.sqlite  \n",
            "  inflating: spider/database/medicine_enzyme_interaction/schema.sql  \n",
            "  inflating: spider/database/mountain_photos/mountain_photos.sqlite  \n",
            "  inflating: spider/database/mountain_photos/schema.sql  \n",
            "  inflating: spider/database/movie_1/movie_1.sqlite  \n",
            "  inflating: spider/database/movie_1/schema.sql  \n",
            "  inflating: spider/database/museum_visit/museum_visit.sqlite  \n",
            "  inflating: spider/database/museum_visit/schema.sql  \n",
            "  inflating: spider/database/music_1/music_1.sqlite  \n",
            "  inflating: spider/database/music_1/schema.sql  \n",
            "  inflating: spider/database/music_2/music_2.sqlite  \n",
            "  inflating: spider/database/music_2/schema.sql  \n",
            "  inflating: spider/database/music_4/music_4.sqlite  \n",
            "  inflating: spider/database/music_4/schema.sql  \n",
            "  inflating: spider/database/musical/musical.sqlite  \n",
            "  inflating: spider/database/musical/schema.sql  \n",
            "  inflating: spider/database/network_1/network_1.sqlite  \n",
            "  inflating: spider/database/network_1/schema.sql  \n",
            "  inflating: spider/database/network_2/network_2.sqlite  \n",
            "  inflating: spider/database/network_2/schema.sql  \n",
            "  inflating: spider/database/news_report/news_report.sqlite  \n",
            "  inflating: spider/database/news_report/schema.sql  \n",
            "  inflating: spider/database/orchestra/orchestra.sqlite  \n",
            "  inflating: spider/database/orchestra/schema.sql  \n",
            "  inflating: spider/database/party_host/party_host.sqlite  \n",
            "  inflating: spider/database/party_host/schema.sql  \n",
            "  inflating: spider/database/party_people/party_people.sqlite  \n",
            "  inflating: spider/database/party_people/schema.sql  \n",
            "  inflating: spider/database/performance_attendance/performance_attendance.sqlite  \n",
            "  inflating: spider/database/performance_attendance/schema.sql  \n",
            "  inflating: spider/database/perpetrator/perpetrator.sqlite  \n",
            "  inflating: spider/database/perpetrator/schema.sql  \n",
            "  inflating: spider/database/pets_1/pets_1.sqlite  \n",
            "  inflating: spider/database/pets_1/schema.sql  \n",
            "  inflating: spider/database/phone_1/phone_1.sqlite  \n",
            "  inflating: spider/database/phone_1/schema.sql  \n",
            "  inflating: spider/database/phone_market/phone_market.sqlite  \n",
            "  inflating: spider/database/phone_market/schema.sql  \n",
            "  inflating: spider/database/pilot_record/pilot_record.sqlite  \n",
            "  inflating: spider/database/pilot_record/schema.sql  \n",
            "  inflating: spider/database/poker_player/poker_player.sqlite  \n",
            "  inflating: spider/database/poker_player/schema.sql  \n",
            "  inflating: spider/database/product_catalog/product_catalog.sqlite  \n",
            "  inflating: spider/database/product_catalog/schema.sql  \n",
            "  inflating: spider/database/products_for_hire/products_for_hire.sqlite  \n",
            "  inflating: spider/database/products_for_hire/schema.sql  \n",
            "  inflating: spider/database/products_gen_characteristics/products_gen_characteristics.sqlite  \n",
            "  inflating: spider/database/products_gen_characteristics/schema.sql  \n",
            "  inflating: spider/database/program_share/program_share.sqlite  \n",
            "  inflating: spider/database/program_share/schema.sql  \n",
            "  inflating: spider/database/protein_institute/protein_institute.sqlite  \n",
            "  inflating: spider/database/protein_institute/schema.sql  \n",
            "  inflating: spider/database/race_track/race_track.sqlite  \n",
            "  inflating: spider/database/race_track/schema.sql  \n",
            "  inflating: spider/database/railway/railway.sqlite  \n",
            "  inflating: spider/database/railway/schema.sql  \n",
            "  inflating: spider/database/real_estate_properties/real_estate_properties.sqlite  \n",
            "  inflating: spider/database/real_estate_properties/schema.sql  \n",
            "  inflating: spider/database/restaurant_1/restaurant_1.sqlite  \n",
            "  inflating: spider/database/restaurant_1/schema.sql  \n",
            "  inflating: spider/database/restaurants/restaurants.sqlite  \n",
            "  inflating: spider/database/restaurants/schema.sql  \n",
            "  inflating: spider/database/riding_club/riding_club.sqlite  \n",
            "  inflating: spider/database/riding_club/schema.sql  \n",
            "  inflating: spider/database/roller_coaster/roller_coaster.sqlite  \n",
            "  inflating: spider/database/roller_coaster/schema.sql  \n",
            "  inflating: spider/database/sakila_1/sakila_1.sqlite  \n",
            "  inflating: spider/database/sakila_1/schema.sql  \n",
            "  inflating: spider/database/scholar/schema.sql  \n",
            "  inflating: spider/database/scholar/scholar.sqlite  \n",
            "  inflating: spider/database/school_bus/schema.sql  \n",
            "  inflating: spider/database/school_bus/school_bus.sqlite  \n",
            "  inflating: spider/database/school_finance/schema.sql  \n",
            "  inflating: spider/database/school_finance/school_finance.sqlite  \n",
            "  inflating: spider/database/school_player/schema.sql  \n",
            "  inflating: spider/database/school_player/school_player.sqlite  \n",
            "  inflating: spider/database/scientist_1/schema.sql  \n",
            "  inflating: spider/database/scientist_1/scientist_1.sqlite  \n",
            "  inflating: spider/database/ship_1/schema.sql  \n",
            "  inflating: spider/database/ship_1/ship_1.sqlite  \n",
            "  inflating: spider/database/ship_mission/schema.sql  \n",
            "  inflating: spider/database/ship_mission/ship_mission.sqlite  \n",
            "  inflating: spider/database/shop_membership/schema.sql  \n",
            "  inflating: spider/database/shop_membership/shop_membership.sqlite  \n",
            "  inflating: spider/database/singer/schema.sql  \n",
            "  inflating: spider/database/singer/singer.sqlite  \n",
            "  inflating: spider/database/small_bank_1/small_bank_1.sqlite  \n",
            "  inflating: spider/database/soccer_1/schema.sql  \n",
            "  inflating: spider/database/soccer_1/soccer_1.sqlite  \n",
            "  inflating: spider/database/soccer_2/schema.sql  \n",
            "  inflating: spider/database/soccer_2/soccer_2.sqlite  \n",
            "  inflating: spider/database/solvency_ii/schema.sql  \n",
            "  inflating: spider/database/solvency_ii/solvency_ii.sqlite  \n",
            "  inflating: spider/database/sports_competition/schema.sql  \n",
            "  inflating: spider/database/sports_competition/sports_competition.sqlite  \n",
            "  inflating: spider/database/station_weather/schema.sql  \n",
            "  inflating: spider/database/station_weather/station_weather.sqlite  \n",
            "  inflating: spider/database/store_1/schema.sql  \n",
            "  inflating: spider/database/store_1/store_1.sqlite  \n",
            "  inflating: spider/database/store_product/schema.sql  \n",
            "  inflating: spider/database/store_product/store_product.sqlite  \n",
            "  inflating: spider/database/storm_record/schema.sql  \n",
            "  inflating: spider/database/storm_record/storm_record.sqlite  \n",
            "  inflating: spider/database/student_1/annotation.json  \n",
            "  inflating: spider/database/student_1/data_csv/README.STUDENTS.TXT  \n",
            "  inflating: spider/database/student_1/data_csv/list.csv  \n",
            "  inflating: spider/database/student_1/data_csv/teachers.csv  \n",
            "  inflating: spider/database/student_1/link.txt  \n",
            "  inflating: spider/database/student_1/q.txt  \n",
            "  inflating: spider/database/student_1/student_1.sql  \n",
            "  inflating: spider/database/student_1/student_1.sqlite  \n",
            "  inflating: spider/database/student_assessment/schema.sql  \n",
            "  inflating: spider/database/student_assessment/student_assessment.sqlite  \n",
            "  inflating: spider/database/student_transcripts_tracking/schema.sql  \n",
            "  inflating: spider/database/student_transcripts_tracking/student_transcripts_tracking.sqlite  \n",
            "  inflating: spider/database/swimming/schema.sql  \n",
            "  inflating: spider/database/swimming/swimming.sqlite  \n",
            "  inflating: spider/database/theme_gallery/schema.sql  \n",
            "  inflating: spider/database/theme_gallery/theme_gallery.sqlite  \n",
            "  inflating: spider/database/tracking_grants_for_research/schema.sql  \n",
            "  inflating: spider/database/tracking_grants_for_research/tracking_grants_for_research.sqlite  \n",
            "  inflating: spider/database/tracking_orders/schema.sql  \n",
            "  inflating: spider/database/tracking_orders/tracking_orders.sqlite  \n",
            "  inflating: spider/database/tracking_share_transactions/schema.sql  \n",
            "  inflating: spider/database/tracking_share_transactions/tracking_share_transactions.sqlite  \n",
            "  inflating: spider/database/tracking_software_problems/schema.sql  \n",
            "  inflating: spider/database/tracking_software_problems/tracking_software_problems.sqlite  \n",
            "  inflating: spider/database/train_station/schema.sql  \n",
            "  inflating: spider/database/train_station/train_station.sqlite  \n",
            "  inflating: spider/database/tvshow/schema.sql  \n",
            "  inflating: spider/database/tvshow/tvshow.sqlite  \n",
            "  inflating: spider/database/twitter_1/queries/oracle-dialects.xml  \n",
            "  inflating: spider/database/twitter_1/queries/postgres-dialects.xml  \n",
            "  inflating: spider/database/twitter_1/queries/sqlserver-dialects.xml  \n",
            "  inflating: spider/database/twitter_1/twitter_1.sqlite  \n",
            "  inflating: spider/database/university_basketball/schema.sql  \n",
            "  inflating: spider/database/university_basketball/university_basketball.sqlite  \n",
            "  inflating: spider/database/voter_1/voter_1.sqlite  \n",
            "  inflating: spider/database/voter_2/schema.sql  \n",
            "  inflating: spider/database/voter_2/voter_2.sqlite  \n",
            "  inflating: spider/database/wedding/schema.sql  \n",
            "  inflating: spider/database/wedding/wedding.sqlite  \n",
            "  inflating: spider/database/wine_1/annotation.json  \n",
            "  inflating: spider/database/wine_1/data_csv/README.WINE.txt  \n",
            "  inflating: spider/database/wine_1/data_csv/appellations.csv  \n",
            "  inflating: spider/database/wine_1/data_csv/grapes.csv  \n",
            "  inflating: spider/database/wine_1/data_csv/wine.csv  \n",
            "  inflating: spider/database/wine_1/link.txt  \n",
            "  inflating: spider/database/wine_1/q.txt  \n",
            "  inflating: spider/database/wine_1/wine_1.sql  \n",
            "  inflating: spider/database/wine_1/wine_1.sqlite  \n",
            "  inflating: spider/database/workshop_paper/schema.sql  \n",
            "  inflating: spider/database/workshop_paper/workshop_paper.sqlite  \n",
            "  inflating: spider/database/world_1/world_1.json  \n",
            "  inflating: spider/database/world_1/world_1.sqlite  \n",
            "  inflating: spider/database/wrestler/schema.sql  \n",
            "  inflating: spider/database/wrestler/wrestler.sqlite  \n",
            "  inflating: spider/database/wta_1/wta_1.sql  \n",
            "  inflating: spider/database/wta_1/wta_1.sqlite  \n",
            "  inflating: spider/database/yelp/schema.sql  \n",
            "  inflating: spider/database/yelp/yelp.sqlite  \n",
            "  inflating: spider/dev.json         \n",
            "  inflating: spider/dev_gold.sql     \n",
            "  inflating: spider/tables.json      \n",
            "  inflating: spider/train_gold.sql   \n",
            "  inflating: spider/train_others.json  \n",
            "  inflating: spider/train_spider.json  \n"
          ],
          "name": "stdout"
        }
      ]
    },
    {
      "cell_type": "code",
      "metadata": {
        "id": "lBPfs3VvK3EH",
        "colab_type": "code",
        "colab": {}
      },
      "source": [
        "df2 = pd.read_json('/content/spider/dev.json')"
      ],
      "execution_count": 8,
      "outputs": []
    },
    {
      "cell_type": "code",
      "metadata": {
        "id": "1gEuPxuOK9u5",
        "colab_type": "code",
        "colab": {
          "base_uri": "https://localhost:8080/",
          "height": 221
        },
        "outputId": "1c485661-3b63-4f6a-a710-9f5b6e3665a5"
      },
      "source": [
        "df2['question']\n",
        "df2['query']"
      ],
      "execution_count": 9,
      "outputs": [
        {
          "output_type": "execute_result",
          "data": {
            "text/plain": [
              "0                             SELECT count(*) FROM singer\n",
              "1                             SELECT count(*) FROM singer\n",
              "2       SELECT name ,  country ,  age FROM singer ORDE...\n",
              "3       SELECT name ,  country ,  age FROM singer ORDE...\n",
              "4       SELECT avg(age) ,  min(age) ,  max(age) FROM s...\n",
              "                              ...                        \n",
              "1029    SELECT Citizenship FROM singer WHERE Birth_Yea...\n",
              "1030        SELECT count(*) FROM Other_Available_Features\n",
              "1031    SELECT T2.feature_type_name FROM Other_Availab...\n",
              "1032    SELECT T2.property_type_description FROM Prope...\n",
              "1033    SELECT property_name FROM Properties WHERE pro...\n",
              "Name: query, Length: 1034, dtype: object"
            ]
          },
          "metadata": {
            "tags": []
          },
          "execution_count": 9
        }
      ]
    },
    {
      "cell_type": "code",
      "metadata": {
        "id": "8abjkSw4PBsV",
        "colab_type": "code",
        "colab": {}
      },
      "source": [
        "df2['question'] = '<start> '+ df2['question'] + ' <end>'"
      ],
      "execution_count": 41,
      "outputs": []
    },
    {
      "cell_type": "code",
      "metadata": {
        "id": "z_bSOTNiPnLH",
        "colab_type": "code",
        "colab": {
          "base_uri": "https://localhost:8080/",
          "height": 221
        },
        "outputId": "aad6e1fb-3c40-44f0-a56e-45e5f0186b7b"
      },
      "source": [
        "df2['question']"
      ],
      "execution_count": 42,
      "outputs": [
        {
          "output_type": "execute_result",
          "data": {
            "text/plain": [
              "0              <start> How many singers do we have? <end>\n",
              "1       <start> What is the total number of singers? <...\n",
              "2       <start> Show name, country, age for all singer...\n",
              "3       <start> What are the names, countries, and age...\n",
              "4       <start> What is the average, minimum, and maxi...\n",
              "                              ...                        \n",
              "1029    <start> What are the citizenships that are sha...\n",
              "1030    <start> How many available features are there ...\n",
              "1031    <start> What is the feature type name of featu...\n",
              "1032    <start> Show the property type descriptions of...\n",
              "1033    <start> What are the names of properties that ...\n",
              "Name: question, Length: 1034, dtype: object"
            ]
          },
          "metadata": {
            "tags": []
          },
          "execution_count": 42
        }
      ]
    },
    {
      "cell_type": "code",
      "metadata": {
        "id": "ZRGny79wPtRK",
        "colab_type": "code",
        "colab": {}
      },
      "source": [
        "df2['query'] ='<start> '+ df2['query'] + ' <end>'"
      ],
      "execution_count": 43,
      "outputs": []
    },
    {
      "cell_type": "code",
      "metadata": {
        "id": "fVnJgJX2LFjl",
        "colab_type": "code",
        "colab": {}
      },
      "source": [
        "question_dataset =[]\n",
        "query_dataset =[]\n",
        "\n",
        "question_dataset= df2['question']\n",
        "query_dataset = df2['query']"
      ],
      "execution_count": 44,
      "outputs": []
    },
    {
      "cell_type": "code",
      "metadata": {
        "colab_type": "code",
        "id": "Vk5R5wE8Lb5e",
        "colab": {}
      },
      "source": [
        "def tokenize(lang):\n",
        "  #lang ='Nitin'\n",
        "  lan_tokenizer = tf.keras.preprocessing.text.Tokenizer(\n",
        "      filters='') \n",
        "  # we are giving filters here so that nothing get filter out..as by default all panchuation could be filtered out\n",
        "  lan_tokenizer.fit_on_texts(lang)\n",
        "  tensor = lan_tokenizer.texts_to_sequences(lang)\n",
        "  tensor = tf.keras.preprocessing.sequence.pad_sequences(tensor, \n",
        "                                                         padding='post')\n",
        "  return tensor,lan_tokenizer"
      ],
      "execution_count": 11,
      "outputs": []
    },
    {
      "cell_type": "code",
      "metadata": {
        "colab_type": "code",
        "id": "AeAN4i37L44i",
        "colab": {}
      },
      "source": [
        "def load_spider_dataset(question,query):\n",
        "  # creating cleaned input, output pairs\n",
        "\n",
        "  input_tensor, inp_lang_tokenizer = tokenize(question)\n",
        "  target_tensor, targ_lang_tokenizer = tokenize(query)\n",
        "\n",
        "  return input_tensor, target_tensor, inp_lang_tokenizer, targ_lang_tokenizer"
      ],
      "execution_count": 12,
      "outputs": []
    },
    {
      "cell_type": "code",
      "metadata": {
        "id": "1cDmOYXXMVaS",
        "colab_type": "code",
        "colab": {}
      },
      "source": [
        ""
      ],
      "execution_count": 12,
      "outputs": []
    },
    {
      "cell_type": "code",
      "metadata": {
        "colab_type": "code",
        "id": "WVFIIVm_Mm09",
        "colab": {}
      },
      "source": [
        "\n",
        "input_tensor, target_tensor, inp_lang, targ_lang = load_spider_dataset(question_dataset, query_dataset)\n",
        "\n",
        "# Calculate max_length of the target tensors\n",
        "max_length_targ, max_length_inp = target_tensor.shape[1], input_tensor.shape[1]"
      ],
      "execution_count": 45,
      "outputs": []
    },
    {
      "cell_type": "code",
      "metadata": {
        "colab_type": "code",
        "id": "y56j55U4Mb87",
        "colab": {
          "base_uri": "https://localhost:8080/",
          "height": 102
        },
        "outputId": "202e426f-8b8f-4f22-bcca-dc6deccebfde"
      },
      "source": [
        "#now lets create dataset\n",
        "\n",
        "BUFFER_SIZE = len(input_tensor)\n",
        "#print(BUFFER_SIZE)\n",
        "BATCH_SIZE=64\n",
        "steps_per_epoch = len(input_tensor)//BATCH_SIZE\n",
        "print(steps_per_epoch)\n",
        "embedding_dim = 256\n",
        "units = 1024\n",
        "\n",
        "vocab_input_size = len(inp_lang.word_index) +1 # need to understand why +1\n",
        "vocab_target_size = len(targ_lang.word_index) +1 # need to understand why +1\n",
        "print(vocab_input_size)\n",
        "print(vocab_target_size)\n",
        "\n",
        "dataset = tf.data.Dataset.from_tensor_slices((input_tensor,target_tensor)).shuffle(BUFFER_SIZE)\n",
        "print(dataset)\n",
        "dataset = dataset.batch(BATCH_SIZE, drop_remainder = True)\n",
        "print(dataset)"
      ],
      "execution_count": 46,
      "outputs": [
        {
          "output_type": "stream",
          "text": [
            "16\n",
            "1419\n",
            "895\n",
            "<ShuffleDataset shapes: ((30,), (60,)), types: (tf.int32, tf.int32)>\n",
            "<BatchDataset shapes: ((64, 30), (64, 60)), types: (tf.int32, tf.int32)>\n"
          ],
          "name": "stdout"
        }
      ]
    },
    {
      "cell_type": "code",
      "metadata": {
        "id": "XTW7inXSNmvs",
        "colab_type": "code",
        "colab": {
          "base_uri": "https://localhost:8080/",
          "height": 164
        },
        "outputId": "f0223426-d6d2-4aaa-9bd8-532f38eb0456"
      },
      "source": [
        "failed\n"
      ],
      "execution_count": 15,
      "outputs": [
        {
          "output_type": "error",
          "ename": "NameError",
          "evalue": "ignored",
          "traceback": [
            "\u001b[0;31m---------------------------------------------------------------------------\u001b[0m",
            "\u001b[0;31mNameError\u001b[0m                                 Traceback (most recent call last)",
            "\u001b[0;32m<ipython-input-15-d14e4b5b81f9>\u001b[0m in \u001b[0;36m<module>\u001b[0;34m()\u001b[0m\n\u001b[0;32m----> 1\u001b[0;31m \u001b[0mfailed\u001b[0m\u001b[0;34m\u001b[0m\u001b[0;34m\u001b[0m\u001b[0m\n\u001b[0m",
            "\u001b[0;31mNameError\u001b[0m: name 'failed' is not defined"
          ]
        }
      ]
    },
    {
      "cell_type": "markdown",
      "metadata": {
        "id": "N3iDDcZbNRnD",
        "colab_type": "text"
      },
      "source": [
        "468\n",
        "9414\n",
        "4935\n",
        "<ShuffleDataset shapes: ((16,), (11,)), types: (tf.int32, tf.int32)>\n",
        "<BatchDataset shapes: ((64, 16), (64, 11)), types: (tf.int32, tf.int32)>"
      ]
    },
    {
      "cell_type": "markdown",
      "metadata": {
        "id": "bMshSL1-ZE9K",
        "colab_type": "text"
      },
      "source": [
        "####Steps\n",
        "\n",
        "1. get data from storage\n",
        "2. remove ASCII, special characters\n",
        "3. clean data\n",
        "  3.1 add START and END to each sentence\n",
        "  3.2 padding \n",
        "  3.3 \n",
        "4. make function to create database, load database, tokenizer\n",
        "5. create encoder\n",
        "6. create decoder\n",
        "7. create attention function\n",
        "8. create run_step function\n",
        "9. train model\n",
        "\n",
        "\n",
        "\n",
        "\n"
      ]
    },
    {
      "cell_type": "code",
      "metadata": {
        "id": "Y3IDCNsEY-1M",
        "colab_type": "code",
        "colab": {}
      },
      "source": [
        ""
      ],
      "execution_count": null,
      "outputs": []
    },
    {
      "cell_type": "code",
      "metadata": {
        "id": "tnxXKDjq3jEL",
        "colab_type": "code",
        "colab": {}
      },
      "source": [
        "import tensorflow as tf\n",
        "\n",
        "import matplotlib.pyplot as plt\n",
        "import matplotlib.ticker as ticker\n",
        "from sklearn.model_selection import train_test_split\n",
        "\n",
        "import unicodedata\n",
        "import re\n",
        "import numpy as np\n",
        "import os\n",
        "import io\n",
        "import time"
      ],
      "execution_count": 16,
      "outputs": []
    },
    {
      "cell_type": "code",
      "metadata": {
        "id": "kRVATYOgJs1b",
        "colab_type": "code",
        "colab": {}
      },
      "source": [
        "# Download the file\n",
        "path_to_zip = tf.keras.utils.get_file(\n",
        "    'spa-eng.zip', origin='http://storage.googleapis.com/download.tensorflow.org/data/spa-eng.zip',\n",
        "    extract=True)\n",
        "\n",
        "path_to_file = os.path.dirname(path_to_zip)+\"/spa-eng/spa.txt\""
      ],
      "execution_count": null,
      "outputs": []
    },
    {
      "cell_type": "code",
      "metadata": {
        "id": "crC1tRyv3CgZ",
        "colab_type": "code",
        "colab": {}
      },
      "source": [
        "print(path_to_file)"
      ],
      "execution_count": null,
      "outputs": []
    },
    {
      "cell_type": "code",
      "metadata": {
        "id": "UaMctisGIUZw",
        "colab_type": "code",
        "colab": {}
      },
      "source": [
        ""
      ],
      "execution_count": null,
      "outputs": []
    },
    {
      "cell_type": "code",
      "metadata": {
        "id": "rd0jw-eC3jEh",
        "colab_type": "code",
        "colab": {}
      },
      "source": [
        "# Converts the unicode file to ascii\n",
        "def unicode_to_ascii(s):\n",
        "  return ''.join(c for c in unicodedata.normalize('NFD', s)\n",
        "      if unicodedata.category(c) != 'Mn')\n",
        "\n",
        "\n",
        "def preprocess_sentence(w):\n",
        "  w = unicode_to_ascii(w.lower().strip())\n",
        "\n",
        "  # creating a space between a word and the punctuation following it\n",
        "  # eg: \"he is a boy.\" => \"he is a boy .\"\n",
        "  # Reference:- https://stackoverflow.com/questions/3645931/python-padding-punctuation-with-white-spaces-keeping-punctuation\n",
        "  w = re.sub(r\"([?.!,¿])\", r\" \\1 \", w)\n",
        "  w = re.sub(r'[\" \"]+', \" \", w)\n",
        "\n",
        "  # replacing everything with space except (a-z, A-Z, \".\", \"?\", \"!\", \",\")\n",
        "  w = re.sub(r\"[^a-zA-Z?.!,¿]+\", \" \", w)\n",
        "\n",
        "  w = w.strip()\n",
        "\n",
        "  # adding a start and an end token to the sentence\n",
        "  # so that the model know when to start and stop predicting.\n",
        "  w = '<start> ' + w + ' <end>'\n",
        "  return w"
      ],
      "execution_count": 64,
      "outputs": []
    },
    {
      "cell_type": "code",
      "metadata": {
        "id": "zwTSwsvmIwoq",
        "colab_type": "code",
        "colab": {}
      },
      "source": [
        ""
      ],
      "execution_count": null,
      "outputs": []
    },
    {
      "cell_type": "code",
      "metadata": {
        "id": "opI2GzOt479E",
        "colab_type": "code",
        "colab": {}
      },
      "source": [
        "en_sentence = u\"May I borrow this book?\"\n",
        "sp_sentence = u\"¿Puedo tomar prestado este libro?\"\n",
        "print(preprocess_sentence(en_sentence))\n",
        "print(preprocess_sentence(sp_sentence).encode('utf-8'))\n",
        "print(preprocess_sentence(sp_sentence))\n"
      ],
      "execution_count": null,
      "outputs": []
    },
    {
      "cell_type": "code",
      "metadata": {
        "id": "cOiKDcj6I4zr",
        "colab_type": "code",
        "colab": {}
      },
      "source": [
        ""
      ],
      "execution_count": null,
      "outputs": []
    },
    {
      "cell_type": "code",
      "metadata": {
        "id": "OHn4Dct23jEm",
        "colab_type": "code",
        "colab": {}
      },
      "source": [
        "# 1. Remove the accents\n",
        "# 2. Clean the sentences\n",
        "# 3. Return word pairs in the format: [ENGLISH, SPANISH]\n",
        "def create_dataset(path, num_examples):\n",
        "  lines = io.open(path, encoding='UTF-8').read().strip().split('\\n')\n",
        "\n",
        "  word_pairs = [[preprocess_sentence(w) for w in l.split('\\t')]  for l in lines[:num_examples]]\n",
        "\n",
        "  return zip(*word_pairs)"
      ],
      "execution_count": null,
      "outputs": []
    },
    {
      "cell_type": "code",
      "metadata": {
        "id": "dEX8T0whJxhd",
        "colab_type": "code",
        "colab": {}
      },
      "source": [
        ""
      ],
      "execution_count": null,
      "outputs": []
    },
    {
      "cell_type": "code",
      "metadata": {
        "id": "cTbSbBz55QtF",
        "colab_type": "code",
        "colab": {}
      },
      "source": [
        "en, sp = create_dataset(path_to_file, None)\n",
        "print(en[-1])\n",
        "print(sp[-1])"
      ],
      "execution_count": null,
      "outputs": []
    },
    {
      "cell_type": "code",
      "metadata": {
        "id": "RERLBmeMJzHQ",
        "colab_type": "code",
        "colab": {}
      },
      "source": [
        "def tokenize(lang):\n",
        "  #lang ='Nitin'\n",
        "  lan_tokenizer = tf.keras.preprocessing.text.Tokenizer(\n",
        "      filters='') \n",
        "  # we are giving filters here so that nothing get filter out..as by default all panchuation could be filtered out\n",
        "  lan_tokenizer.fit_on_texts(lang)\n",
        "  tensor = lan_tokenizer.texts_to_sequences(lang)\n",
        "  tensor = tf.keras.preprocessing.sequence.pad_sequences(tensor, \n",
        "                                                         padding='post')\n",
        "  return tensor,lan_tokenizer"
      ],
      "execution_count": null,
      "outputs": []
    },
    {
      "cell_type": "code",
      "metadata": {
        "id": "eAY9k49G3jE_",
        "colab_type": "code",
        "colab": {}
      },
      "source": [
        "def load_dataset(path, num_examples=None):\n",
        "  # creating cleaned input, output pairs\n",
        "  targ_lang, inp_lang = create_dataset(path, num_examples)\n",
        "\n",
        "  input_tensor, inp_lang_tokenizer = tokenize(inp_lang)\n",
        "  target_tensor, targ_lang_tokenizer = tokenize(targ_lang)\n",
        "\n",
        "  return input_tensor, target_tensor, inp_lang_tokenizer, targ_lang_tokenizer"
      ],
      "execution_count": null,
      "outputs": []
    },
    {
      "cell_type": "code",
      "metadata": {
        "id": "cnxC7q-j3jFD",
        "colab_type": "code",
        "colab": {}
      },
      "source": [
        "# Try experimenting with the size of that dataset\n",
        "num_examples = 30000\n",
        "input_tensor, target_tensor, inp_lang, targ_lang = load_dataset(path_to_file, num_examples)\n",
        "\n",
        "# Calculate max_length of the target tensors\n",
        "max_length_targ, max_length_inp = target_tensor.shape[1], input_tensor.shape[1]"
      ],
      "execution_count": null,
      "outputs": []
    },
    {
      "cell_type": "code",
      "metadata": {
        "id": "VeluSgC9UFY-",
        "colab_type": "code",
        "colab": {}
      },
      "source": [
        "print(target_tensor.shape)\n",
        "print(input_tensor.shape)\n",
        "print(max_length_inp)"
      ],
      "execution_count": null,
      "outputs": []
    },
    {
      "cell_type": "code",
      "metadata": {
        "id": "4gCe9pdAUOUl",
        "colab_type": "code",
        "colab": {}
      },
      "source": [
        "print(target_tensor[1])"
      ],
      "execution_count": null,
      "outputs": []
    },
    {
      "cell_type": "code",
      "metadata": {
        "id": "YdbgA1_yUqJL",
        "colab_type": "code",
        "colab": {}
      },
      "source": [
        "print(inp_lang.word_index)"
      ],
      "execution_count": null,
      "outputs": []
    },
    {
      "cell_type": "code",
      "metadata": {
        "id": "0CbDoAUxWS7q",
        "colab_type": "code",
        "colab": {
          "base_uri": "https://localhost:8080/",
          "height": 102
        },
        "outputId": "bbbce674-d2be-4d93-ed31-6502a44caa49"
      },
      "source": [
        "#now lets create dataset\n",
        "\n",
        "BUFFER_SIZE = len(input_tensor)\n",
        "#print(BUFFER_SIZE)\n",
        "BATCH_SIZE=64\n",
        "steps_per_epoch = len(input_tensor)//BATCH_SIZE\n",
        "print(steps_per_epoch)\n",
        "embedding_dim = 256\n",
        "units = 1024\n",
        "\n",
        "vocab_input_size = len(inp_lang.word_index) +1 # need to understand why +1\n",
        "vocab_target_size = len(targ_lang.word_index) +1 # need to understand why +1\n",
        "print(vocab_input_size)\n",
        "print(vocab_target_size)\n",
        "\n",
        "dataset = tf.data.Dataset.from_tensor_slices((input_tensor,target_tensor)).shuffle(BUFFER_SIZE)\n",
        "print(dataset)\n",
        "dataset = dataset.batch(BATCH_SIZE, drop_remainder = True)\n",
        "print(dataset)"
      ],
      "execution_count": 47,
      "outputs": [
        {
          "output_type": "stream",
          "text": [
            "16\n",
            "1419\n",
            "895\n",
            "<ShuffleDataset shapes: ((30,), (60,)), types: (tf.int32, tf.int32)>\n",
            "<BatchDataset shapes: ((64, 30), (64, 60)), types: (tf.int32, tf.int32)>\n"
          ],
          "name": "stdout"
        }
      ]
    },
    {
      "cell_type": "code",
      "metadata": {
        "id": "3WF7PtSzt6CC",
        "colab_type": "code",
        "colab": {
          "base_uri": "https://localhost:8080/",
          "height": 34
        },
        "outputId": "691ca6d1-8094-4b2c-fd6d-726d399ebb48"
      },
      "source": [
        "example_input_batch, example_target_batch = next(iter(dataset)) ## its imp to note as this is how we navigate in dataset\n",
        "example_input_batch.shape, example_target_batch.shape"
      ],
      "execution_count": 48,
      "outputs": [
        {
          "output_type": "execute_result",
          "data": {
            "text/plain": [
              "(TensorShape([64, 30]), TensorShape([64, 60]))"
            ]
          },
          "metadata": {
            "tags": []
          },
          "execution_count": 48
        }
      ]
    },
    {
      "cell_type": "code",
      "metadata": {
        "id": "J6c19XlbyKUv",
        "colab_type": "code",
        "colab": {}
      },
      "source": [
        "dataset.cardinality() # this is imp as its tell how many batches we are going to get"
      ],
      "execution_count": null,
      "outputs": []
    },
    {
      "cell_type": "code",
      "metadata": {
        "id": "XkjxLhM5Xl-j",
        "colab_type": "code",
        "colab": {}
      },
      "source": [
        "#now create encoder\n",
        "#should have :- 1) embedding layer, 2) LSTm/RNN layer with return_sequence = false and 3) return_state = True, output of this should go to decoder\n",
        "# now because we are using attention model directly, return_sequence can be True, lets see\n",
        "class Encoder(tf.keras.Model):\n",
        "  def __init__(self,vocab_size, embedding_dim, enc_unit,batch_sz): ## constructor\n",
        "    super(Encoder,self).__init__()\n",
        "    self.batch_sz = batch_sz\n",
        "    self.enc_unit = enc_unit\n",
        "    self.embedding = tf.keras.layers.Embedding(vocab_size, embedding_dim)\n",
        "    self.gru = tf.keras.layers.GRU(self.enc_unit,\n",
        "                                   return_sequences =True,\n",
        "                                   return_state = True,\n",
        "                                   recurrent_initializer ='glorot_uniform') ## need toc heck use of this recurrent_initializer\n",
        "  def call(self,x,hidden):\n",
        "    x = self.embedding(x)\n",
        "    output,state = self.gru(x, initial_state = hidden)\n",
        "    return output,state\n",
        "\n",
        "  def initialize_hidden_state(self):\n",
        "    return tf.zeros((self.batch_sz, self.enc_unit))\n",
        "\n"
      ],
      "execution_count": 17,
      "outputs": []
    },
    {
      "cell_type": "code",
      "metadata": {
        "id": "9nD9gwYqvzt9",
        "colab_type": "code",
        "colab": {}
      },
      "source": [
        "#lets test this encoder\n",
        "encoder = Encoder(vocab_input_size,embedding_dim,units,BATCH_SIZE)\n"
      ],
      "execution_count": 49,
      "outputs": []
    },
    {
      "cell_type": "code",
      "metadata": {
        "id": "5eje61l5wSJu",
        "colab_type": "code",
        "colab": {}
      },
      "source": [
        "#encoder(x,hidden)\n",
        "sample_hidden = encoder.initialize_hidden_state()\n",
        "\n",
        "encoder_output, encoder_state = encoder( example_input_batch,sample_hidden)"
      ],
      "execution_count": 50,
      "outputs": []
    },
    {
      "cell_type": "code",
      "metadata": {
        "id": "JmAiXKDxztUM",
        "colab_type": "code",
        "colab": {
          "base_uri": "https://localhost:8080/",
          "height": 51
        },
        "outputId": "e1dbad8b-a1a6-43a6-93d2-973625768a85"
      },
      "source": [
        "print(encoder_output.shape)\n",
        "print(encoder_state.shape)"
      ],
      "execution_count": 51,
      "outputs": [
        {
          "output_type": "stream",
          "text": [
            "(64, 30, 1024)\n",
            "(64, 1024)\n"
          ],
          "name": "stdout"
        }
      ]
    },
    {
      "cell_type": "code",
      "metadata": {
        "id": "LHW9TBC70AFn",
        "colab_type": "code",
        "colab": {}
      },
      "source": [
        "class Battention(tf.keras.layers.Layer):\n",
        "  def __init__(self,units):\n",
        "    super(Battention,self).__init__()\n",
        "    self.W1 = tf.keras.layers.Dense(units)\n",
        "    self.W2 = tf.keras.layers.Dense(units)\n",
        "    self.V = tf.keras.layers.Dense(1)\n",
        "\n",
        "  def call(self,query,values):\n",
        "    #now this query is hidden state so shape would be batch, hidden_Size/hidden_units..ie. 64 *1024\n",
        "    #values shape would be batch, max_length, and hidden units\n",
        "    # we need to have shape same, so would expand query one now\n",
        "    # one of them (query, values) would be decoder hiddent state and another would be Encoder hiddem state\"S\"\n",
        "    # from below ----values seems encoder hidden states whereas query seems decoder previous hiddent state\n",
        "    # query===Hidden\n",
        "    query_with_time_axis = tf.expand_dims(query,1)\n",
        "    # remember score get calculated with help of previous decoder hidden state PLUS all hinned states of encoder AND then vectorised it for all sequence\n",
        "    # in that way vector length would be same as input sequence of encoder\n",
        "    score = self.V(tf.nn.tanh\n",
        "                   (self.W1(query_with_time_axis) +\n",
        "                    self.W2(values)\n",
        "                   ))\n",
        "    \n",
        "    attention_weights = tf.nn.softmax(score, axis=1)\n",
        "\n",
        "    # contect vector would be multolication of encoder hidden state with attention weights\n",
        "    # so it means \"values\" represent encoder hidden states\n",
        "    # so in that case we get answer of upper question\n",
        "\n",
        "    context_vector = attention_weights*values\n",
        "    context_vector = tf.reduce_sum(context_vector, axis=1)\n",
        "    #reduce_sum function reduce dimension (x =0) means row reduce, x=1 means column reduced\n",
        "    # so here we reduced columns dimension\n",
        "    #source https://stackoverflow.com/questions/47157692/how-does-reduce-sum-work-in-tensorflow\n",
        "    return context_vector, attention_weights\n"
      ],
      "execution_count": 52,
      "outputs": []
    },
    {
      "cell_type": "code",
      "metadata": {
        "id": "cprUFU5m8Ps7",
        "colab_type": "code",
        "colab": {}
      },
      "source": [
        ""
      ],
      "execution_count": null,
      "outputs": []
    },
    {
      "cell_type": "code",
      "metadata": {
        "id": "FvLg4qZNPCNL",
        "colab_type": "code",
        "colab": {}
      },
      "source": [
        "attention_layer = Battention(10)\n",
        "c_vector, att_weights = attention_layer(sample_hidden, encoder_output)"
      ],
      "execution_count": 53,
      "outputs": []
    },
    {
      "cell_type": "code",
      "metadata": {
        "id": "eSCyG-y5QNH0",
        "colab_type": "code",
        "colab": {}
      },
      "source": [
        "print(c_vector.shape)\n",
        "print(att_weights.shape)"
      ],
      "execution_count": null,
      "outputs": []
    },
    {
      "cell_type": "code",
      "metadata": {
        "id": "8v9lEt-QQSZw",
        "colab_type": "code",
        "colab": {}
      },
      "source": [
        "class Decoder (tf.keras.Model):\n",
        "  def __init__(self, vocab_size, embedding_dim, dec_units,batch_sz):\n",
        "    super(Decoder,self).__init__()\n",
        "    self.embedding = tf.keras.layers.Embedding(vocab_size,embedding_dim)\n",
        "    self.gru = tf.keras.layers.GRU(\n",
        "        dec_units,\n",
        "        return_sequences = True,\n",
        "        return_state = True,\n",
        "        recurrent_initializer = 'glorot_uniform')\n",
        "    self.FC = tf.keras.layers.Dense(vocab_size)\n",
        "\n",
        "    self.attention = Battention(dec_units) #only instatiation here\n",
        "\n",
        "  def call(self,x,hidden,enc_output):\n",
        "    context_vector, attention_weights = self.attention(hidden, enc_output ) ## here i have doubt about second paramater. As per my understanding it should be enoder hidden state (not encoder_output)\n",
        "    x= self.embedding(x)\n",
        "    #now concatenate this value with context-vector and then feed into GRU\n",
        "    x = tf.concat([tf.expand_dims(context_vector,1),x],axis =-1)\n",
        "    output, state = self.gru(x)\n",
        "    #reshape this output and pass it to FC\n",
        "    output = tf.reshape(output, (-1, output.shape[2]))\n",
        "    x= self.FC(output)\n",
        "    return x, state,attention_weights\n"
      ],
      "execution_count": 54,
      "outputs": []
    },
    {
      "cell_type": "code",
      "metadata": {
        "id": "bsXSWjN7XKO7",
        "colab_type": "code",
        "colab": {}
      },
      "source": [
        "#test this now\n",
        "\n",
        "decoder = Decoder(vocab_target_size,embedding_dim,1024,64)\n",
        "sample_decoder_output, _,_= decoder(tf.random.uniform((BATCH_SIZE,1)),\n",
        "                                    encoder_state,\n",
        "                                    encoder_output)"
      ],
      "execution_count": 55,
      "outputs": []
    },
    {
      "cell_type": "code",
      "metadata": {
        "id": "1GvSprFd65eG",
        "colab_type": "code",
        "colab": {}
      },
      "source": [
        ""
      ],
      "execution_count": null,
      "outputs": []
    },
    {
      "cell_type": "code",
      "metadata": {
        "id": "WmTHr5iV3jFr",
        "colab_type": "code",
        "colab": {}
      },
      "source": [
        "# need to understand why we need loss_function method\n",
        "optimizer = tf.keras.optimizers.Adam()\n",
        "loss_object = tf.keras.losses.SparseCategoricalCrossentropy(\n",
        "    from_logits=True, reduction='none')\n",
        "\n",
        "def loss_function(real, pred):\n",
        "  mask = tf.math.logical_not(tf.math.equal(real, 0))\n",
        "  loss_ = loss_object(real, pred)\n",
        "\n",
        "  mask = tf.cast(mask, dtype=loss_.dtype)\n",
        "  loss_ *= mask\n",
        "\n",
        "  return tf.reduce_mean(loss_)"
      ],
      "execution_count": 56,
      "outputs": []
    },
    {
      "cell_type": "code",
      "metadata": {
        "id": "QUT59Wkb-XuC",
        "colab_type": "code",
        "colab": {}
      },
      "source": [
        ""
      ],
      "execution_count": null,
      "outputs": []
    },
    {
      "cell_type": "code",
      "metadata": {
        "id": "sC9ArXSsVfqn",
        "colab_type": "code",
        "colab": {}
      },
      "source": [
        "@tf.function\n",
        "def train_step(inp, targ, enc_hidden):\n",
        "  loss = 0\n",
        "\n",
        "  with tf.GradientTape() as tape:\n",
        "    enc_output, enc_hidden = encoder(inp, enc_hidden)\n",
        "\n",
        "    dec_hidden = enc_hidden\n",
        "\n",
        "    dec_input = tf.expand_dims([targ_lang.word_index['<start>']] * BATCH_SIZE, 1)\n",
        "\n",
        "    # Teacher forcing - feeding the target as the next input\n",
        "    for t in range(1, targ.shape[1]):\n",
        "      # passing enc_output to the decoder\n",
        "      predictions, dec_hidden, _ = decoder(dec_input, dec_hidden, enc_output)\n",
        "\n",
        "      loss += loss_function(targ[:, t], predictions)\n",
        "\n",
        "      # using teacher forcing\n",
        "      dec_input = tf.expand_dims(targ[:, t], 1)\n",
        "\n",
        "  batch_loss = (loss / int(targ.shape[1]))\n",
        "\n",
        "  variables = encoder.trainable_variables + decoder.trainable_variables\n",
        "\n",
        "  gradients = tape.gradient(loss, variables)\n",
        "\n",
        "  optimizer.apply_gradients(zip(gradients, variables))\n",
        "\n",
        "  return batch_loss"
      ],
      "execution_count": 57,
      "outputs": []
    },
    {
      "cell_type": "code",
      "metadata": {
        "id": "htLj8gAn_JY-",
        "colab_type": "code",
        "colab": {}
      },
      "source": [
        ""
      ],
      "execution_count": null,
      "outputs": []
    },
    {
      "cell_type": "code",
      "metadata": {
        "id": "Zj8bXQTgNwrF",
        "colab_type": "code",
        "colab": {}
      },
      "source": [
        "checkpoint_dir = './training_checkpoints'\n",
        "checkpoint_prefix = os.path.join(checkpoint_dir, \"ckpt\")\n",
        "checkpoint = tf.train.Checkpoint(optimizer=optimizer,\n",
        "                                 encoder=encoder,\n",
        "                                 decoder=decoder)"
      ],
      "execution_count": 58,
      "outputs": []
    },
    {
      "cell_type": "code",
      "metadata": {
        "id": "ddefjBMa3jF0",
        "colab_type": "code",
        "colab": {
          "base_uri": "https://localhost:8080/",
          "height": 1000
        },
        "outputId": "9c0fd3ac-f9ba-44c9-dd04-a4da6b8cd277"
      },
      "source": [
        "EPOCHS = 100\n",
        "\n",
        "for epoch in range(EPOCHS):\n",
        "  start = time.time()\n",
        "\n",
        "  enc_hidden = encoder.initialize_hidden_state()\n",
        "  total_loss = 0\n",
        "\n",
        "  for (batch, (inp, targ)) in enumerate(dataset.take(steps_per_epoch)):\n",
        "    batch_loss = train_step(inp, targ, enc_hidden)\n",
        "    total_loss += batch_loss\n",
        "\n",
        "    if batch % 100 == 0:\n",
        "      print('Epoch {} Batch {} Loss {:.4f}'.format(epoch + 1,\n",
        "                                                   batch,\n",
        "                                                   batch_loss.numpy()))\n",
        "  # saving (checkpoint) the model every 2 epochs\n",
        "  if (epoch + 1) % 2 == 0:\n",
        "    checkpoint.save(file_prefix = checkpoint_prefix)\n",
        "\n",
        "  print('Epoch {} Loss {:.4f}'.format(epoch + 1,\n",
        "                                      total_loss / steps_per_epoch))\n",
        "  print('Time taken for 1 epoch {} sec\\n'.format(time.time() - start))"
      ],
      "execution_count": 68,
      "outputs": [
        {
          "output_type": "stream",
          "text": [
            "Epoch 1 Batch 0 Loss 0.4431\n",
            "Epoch 1 Loss 0.4701\n",
            "Time taken for 1 epoch 5.218837738037109 sec\n",
            "\n",
            "Epoch 2 Batch 0 Loss 0.4362\n",
            "Epoch 2 Loss 0.4427\n",
            "Time taken for 1 epoch 5.504639387130737 sec\n",
            "\n",
            "Epoch 3 Batch 0 Loss 0.4483\n",
            "Epoch 3 Loss 0.4204\n",
            "Time taken for 1 epoch 5.1831889152526855 sec\n",
            "\n",
            "Epoch 4 Batch 0 Loss 0.3977\n",
            "Epoch 4 Loss 0.3995\n",
            "Time taken for 1 epoch 5.534530162811279 sec\n",
            "\n",
            "Epoch 5 Batch 0 Loss 0.3576\n",
            "Epoch 5 Loss 0.3709\n",
            "Time taken for 1 epoch 5.205682754516602 sec\n",
            "\n",
            "Epoch 6 Batch 0 Loss 0.3426\n",
            "Epoch 6 Loss 0.3431\n",
            "Time taken for 1 epoch 5.52851676940918 sec\n",
            "\n",
            "Epoch 7 Batch 0 Loss 0.3243\n",
            "Epoch 7 Loss 0.3144\n",
            "Time taken for 1 epoch 5.166582822799683 sec\n",
            "\n",
            "Epoch 8 Batch 0 Loss 0.2904\n",
            "Epoch 8 Loss 0.2901\n",
            "Time taken for 1 epoch 5.502891540527344 sec\n",
            "\n",
            "Epoch 9 Batch 0 Loss 0.2976\n",
            "Epoch 9 Loss 0.2754\n",
            "Time taken for 1 epoch 5.190189838409424 sec\n",
            "\n",
            "Epoch 10 Batch 0 Loss 0.2592\n",
            "Epoch 10 Loss 0.2447\n",
            "Time taken for 1 epoch 5.510366201400757 sec\n",
            "\n",
            "Epoch 11 Batch 0 Loss 0.2096\n",
            "Epoch 11 Loss 0.2188\n",
            "Time taken for 1 epoch 5.195236921310425 sec\n",
            "\n",
            "Epoch 12 Batch 0 Loss 0.1774\n",
            "Epoch 12 Loss 0.2000\n",
            "Time taken for 1 epoch 5.51898455619812 sec\n",
            "\n",
            "Epoch 13 Batch 0 Loss 0.1877\n",
            "Epoch 13 Loss 0.1777\n",
            "Time taken for 1 epoch 5.213979721069336 sec\n",
            "\n",
            "Epoch 14 Batch 0 Loss 0.1753\n",
            "Epoch 14 Loss 0.1609\n",
            "Time taken for 1 epoch 5.556983709335327 sec\n",
            "\n",
            "Epoch 15 Batch 0 Loss 0.1205\n",
            "Epoch 15 Loss 0.1438\n",
            "Time taken for 1 epoch 5.173088312149048 sec\n",
            "\n",
            "Epoch 16 Batch 0 Loss 0.1189\n",
            "Epoch 16 Loss 0.1295\n",
            "Time taken for 1 epoch 5.510125160217285 sec\n",
            "\n",
            "Epoch 17 Batch 0 Loss 0.1081\n",
            "Epoch 17 Loss 0.1126\n",
            "Time taken for 1 epoch 5.213012456893921 sec\n",
            "\n",
            "Epoch 18 Batch 0 Loss 0.0855\n",
            "Epoch 18 Loss 0.1011\n",
            "Time taken for 1 epoch 5.536114692687988 sec\n",
            "\n",
            "Epoch 19 Batch 0 Loss 0.0793\n",
            "Epoch 19 Loss 0.0883\n",
            "Time taken for 1 epoch 5.178092002868652 sec\n",
            "\n",
            "Epoch 20 Batch 0 Loss 0.0702\n",
            "Epoch 20 Loss 0.0783\n",
            "Time taken for 1 epoch 5.534703493118286 sec\n",
            "\n",
            "Epoch 21 Batch 0 Loss 0.0638\n",
            "Epoch 21 Loss 0.0678\n",
            "Time taken for 1 epoch 5.196476459503174 sec\n",
            "\n",
            "Epoch 22 Batch 0 Loss 0.0525\n",
            "Epoch 22 Loss 0.0603\n",
            "Time taken for 1 epoch 5.545488357543945 sec\n",
            "\n",
            "Epoch 23 Batch 0 Loss 0.0478\n",
            "Epoch 23 Loss 0.0530\n",
            "Time taken for 1 epoch 5.183974027633667 sec\n",
            "\n",
            "Epoch 24 Batch 0 Loss 0.0467\n",
            "Epoch 24 Loss 0.0470\n",
            "Time taken for 1 epoch 5.541706562042236 sec\n",
            "\n",
            "Epoch 25 Batch 0 Loss 0.0386\n",
            "Epoch 25 Loss 0.0405\n",
            "Time taken for 1 epoch 5.186581373214722 sec\n",
            "\n",
            "Epoch 26 Batch 0 Loss 0.0398\n",
            "Epoch 26 Loss 0.0346\n",
            "Time taken for 1 epoch 5.556753635406494 sec\n",
            "\n",
            "Epoch 27 Batch 0 Loss 0.0314\n",
            "Epoch 27 Loss 0.0311\n",
            "Time taken for 1 epoch 5.212185382843018 sec\n",
            "\n",
            "Epoch 28 Batch 0 Loss 0.0295\n",
            "Epoch 28 Loss 0.0275\n",
            "Time taken for 1 epoch 5.555150747299194 sec\n",
            "\n",
            "Epoch 29 Batch 0 Loss 0.0242\n",
            "Epoch 29 Loss 0.0263\n",
            "Time taken for 1 epoch 5.209637641906738 sec\n",
            "\n",
            "Epoch 30 Batch 0 Loss 0.0264\n",
            "Epoch 30 Loss 0.0258\n",
            "Time taken for 1 epoch 5.55946946144104 sec\n",
            "\n",
            "Epoch 31 Batch 0 Loss 0.0184\n",
            "Epoch 31 Loss 0.0225\n",
            "Time taken for 1 epoch 5.202234268188477 sec\n",
            "\n",
            "Epoch 32 Batch 0 Loss 0.0157\n",
            "Epoch 32 Loss 0.0193\n",
            "Time taken for 1 epoch 5.623748540878296 sec\n",
            "\n",
            "Epoch 33 Batch 0 Loss 0.0174\n",
            "Epoch 33 Loss 0.0163\n",
            "Time taken for 1 epoch 5.20589804649353 sec\n",
            "\n",
            "Epoch 34 Batch 0 Loss 0.0114\n",
            "Epoch 34 Loss 0.0143\n",
            "Time taken for 1 epoch 5.595452070236206 sec\n",
            "\n",
            "Epoch 35 Batch 0 Loss 0.0129\n",
            "Epoch 35 Loss 0.0130\n",
            "Time taken for 1 epoch 5.194755554199219 sec\n",
            "\n",
            "Epoch 36 Batch 0 Loss 0.0115\n",
            "Epoch 36 Loss 0.0121\n",
            "Time taken for 1 epoch 5.553699970245361 sec\n",
            "\n",
            "Epoch 37 Batch 0 Loss 0.0136\n",
            "Epoch 37 Loss 0.0111\n",
            "Time taken for 1 epoch 5.206483840942383 sec\n",
            "\n",
            "Epoch 38 Batch 0 Loss 0.0104\n",
            "Epoch 38 Loss 0.0102\n",
            "Time taken for 1 epoch 5.569597244262695 sec\n",
            "\n",
            "Epoch 39 Batch 0 Loss 0.0072\n",
            "Epoch 39 Loss 0.0090\n",
            "Time taken for 1 epoch 5.195969581604004 sec\n",
            "\n",
            "Epoch 40 Batch 0 Loss 0.0078\n",
            "Epoch 40 Loss 0.0079\n",
            "Time taken for 1 epoch 5.543598651885986 sec\n",
            "\n",
            "Epoch 41 Batch 0 Loss 0.0053\n",
            "Epoch 41 Loss 0.0071\n",
            "Time taken for 1 epoch 5.166583061218262 sec\n",
            "\n",
            "Epoch 42 Batch 0 Loss 0.0061\n",
            "Epoch 42 Loss 0.0067\n",
            "Time taken for 1 epoch 5.566656827926636 sec\n",
            "\n",
            "Epoch 43 Batch 0 Loss 0.0065\n",
            "Epoch 43 Loss 0.0065\n",
            "Time taken for 1 epoch 5.205279111862183 sec\n",
            "\n",
            "Epoch 44 Batch 0 Loss 0.0052\n",
            "Epoch 44 Loss 0.0061\n",
            "Time taken for 1 epoch 5.552621603012085 sec\n",
            "\n",
            "Epoch 45 Batch 0 Loss 0.0065\n",
            "Epoch 45 Loss 0.0059\n",
            "Time taken for 1 epoch 5.19939112663269 sec\n",
            "\n",
            "Epoch 46 Batch 0 Loss 0.0045\n",
            "Epoch 46 Loss 0.0055\n",
            "Time taken for 1 epoch 5.5735108852386475 sec\n",
            "\n",
            "Epoch 47 Batch 0 Loss 0.0048\n",
            "Epoch 47 Loss 0.0050\n",
            "Time taken for 1 epoch 5.181615591049194 sec\n",
            "\n",
            "Epoch 48 Batch 0 Loss 0.0037\n",
            "Epoch 48 Loss 0.0046\n",
            "Time taken for 1 epoch 5.581112623214722 sec\n",
            "\n",
            "Epoch 49 Batch 0 Loss 0.0053\n",
            "Epoch 49 Loss 0.0045\n",
            "Time taken for 1 epoch 5.212445497512817 sec\n",
            "\n",
            "Epoch 50 Batch 0 Loss 0.0045\n",
            "Epoch 50 Loss 0.0043\n",
            "Time taken for 1 epoch 5.566634654998779 sec\n",
            "\n",
            "Epoch 51 Batch 0 Loss 0.0055\n",
            "Epoch 51 Loss 0.0042\n",
            "Time taken for 1 epoch 5.18871545791626 sec\n",
            "\n",
            "Epoch 52 Batch 0 Loss 0.0029\n",
            "Epoch 52 Loss 0.0043\n",
            "Time taken for 1 epoch 5.528871059417725 sec\n",
            "\n",
            "Epoch 53 Batch 0 Loss 0.0036\n",
            "Epoch 53 Loss 0.0046\n",
            "Time taken for 1 epoch 5.209511756896973 sec\n",
            "\n",
            "Epoch 54 Batch 0 Loss 0.0041\n",
            "Epoch 54 Loss 0.0050\n",
            "Time taken for 1 epoch 5.568320035934448 sec\n",
            "\n",
            "Epoch 55 Batch 0 Loss 0.0031\n",
            "Epoch 55 Loss 0.0046\n",
            "Time taken for 1 epoch 5.195353269577026 sec\n",
            "\n",
            "Epoch 56 Batch 0 Loss 0.0027\n",
            "Epoch 56 Loss 0.0092\n",
            "Time taken for 1 epoch 5.583229064941406 sec\n",
            "\n",
            "Epoch 57 Batch 0 Loss 0.0164\n",
            "Epoch 57 Loss 0.0307\n",
            "Time taken for 1 epoch 5.190157175064087 sec\n",
            "\n",
            "Epoch 58 Batch 0 Loss 0.0402\n",
            "Epoch 58 Loss 0.0589\n",
            "Time taken for 1 epoch 5.565777540206909 sec\n",
            "\n",
            "Epoch 59 Batch 0 Loss 0.0464\n",
            "Epoch 59 Loss 0.0519\n",
            "Time taken for 1 epoch 5.187402725219727 sec\n",
            "\n",
            "Epoch 60 Batch 0 Loss 0.0348\n",
            "Epoch 60 Loss 0.0546\n",
            "Time taken for 1 epoch 5.5936079025268555 sec\n",
            "\n",
            "Epoch 61 Batch 0 Loss 0.0421\n",
            "Epoch 61 Loss 0.0516\n",
            "Time taken for 1 epoch 5.208478689193726 sec\n",
            "\n",
            "Epoch 62 Batch 0 Loss 0.0295\n",
            "Epoch 62 Loss 0.0310\n",
            "Time taken for 1 epoch 5.543985843658447 sec\n",
            "\n",
            "Epoch 63 Batch 0 Loss 0.0212\n",
            "Epoch 63 Loss 0.0190\n",
            "Time taken for 1 epoch 5.182058811187744 sec\n",
            "\n",
            "Epoch 64 Batch 0 Loss 0.0143\n",
            "Epoch 64 Loss 0.0122\n",
            "Time taken for 1 epoch 5.5424721240997314 sec\n",
            "\n",
            "Epoch 65 Batch 0 Loss 0.0075\n",
            "Epoch 65 Loss 0.0080\n",
            "Time taken for 1 epoch 5.228585720062256 sec\n",
            "\n",
            "Epoch 66 Batch 0 Loss 0.0070\n",
            "Epoch 66 Loss 0.0058\n",
            "Time taken for 1 epoch 5.554206371307373 sec\n",
            "\n",
            "Epoch 67 Batch 0 Loss 0.0041\n",
            "Epoch 67 Loss 0.0050\n",
            "Time taken for 1 epoch 5.1987457275390625 sec\n",
            "\n",
            "Epoch 68 Batch 0 Loss 0.0033\n",
            "Epoch 68 Loss 0.0044\n",
            "Time taken for 1 epoch 5.587383031845093 sec\n",
            "\n",
            "Epoch 69 Batch 0 Loss 0.0028\n",
            "Epoch 69 Loss 0.0043\n",
            "Time taken for 1 epoch 5.200496196746826 sec\n",
            "\n",
            "Epoch 70 Batch 0 Loss 0.0035\n",
            "Epoch 70 Loss 0.0042\n",
            "Time taken for 1 epoch 5.5634989738464355 sec\n",
            "\n",
            "Epoch 71 Batch 0 Loss 0.0021\n",
            "Epoch 71 Loss 0.0036\n",
            "Time taken for 1 epoch 5.1814305782318115 sec\n",
            "\n",
            "Epoch 72 Batch 0 Loss 0.0027\n",
            "Epoch 72 Loss 0.0032\n",
            "Time taken for 1 epoch 5.593544244766235 sec\n",
            "\n",
            "Epoch 73 Batch 0 Loss 0.0022\n",
            "Epoch 73 Loss 0.0031\n",
            "Time taken for 1 epoch 5.189444303512573 sec\n",
            "\n",
            "Epoch 74 Batch 0 Loss 0.0026\n",
            "Epoch 74 Loss 0.0031\n",
            "Time taken for 1 epoch 5.573604583740234 sec\n",
            "\n",
            "Epoch 75 Batch 0 Loss 0.0048\n",
            "Epoch 75 Loss 0.0032\n",
            "Time taken for 1 epoch 5.199309825897217 sec\n",
            "\n",
            "Epoch 76 Batch 0 Loss 0.0015\n",
            "Epoch 76 Loss 0.0034\n",
            "Time taken for 1 epoch 5.564321041107178 sec\n",
            "\n",
            "Epoch 77 Batch 0 Loss 0.0028\n",
            "Epoch 77 Loss 0.0034\n",
            "Time taken for 1 epoch 5.1899425983428955 sec\n",
            "\n",
            "Epoch 78 Batch 0 Loss 0.0021\n",
            "Epoch 78 Loss 0.0032\n",
            "Time taken for 1 epoch 5.564387321472168 sec\n",
            "\n",
            "Epoch 79 Batch 0 Loss 0.0031\n",
            "Epoch 79 Loss 0.0029\n",
            "Time taken for 1 epoch 5.19425630569458 sec\n",
            "\n",
            "Epoch 80 Batch 0 Loss 0.0015\n",
            "Epoch 80 Loss 0.0027\n",
            "Time taken for 1 epoch 5.578890323638916 sec\n",
            "\n",
            "Epoch 81 Batch 0 Loss 0.0014\n",
            "Epoch 81 Loss 0.0027\n",
            "Time taken for 1 epoch 5.196344375610352 sec\n",
            "\n",
            "Epoch 82 Batch 0 Loss 0.0014\n",
            "Epoch 82 Loss 0.0028\n",
            "Time taken for 1 epoch 5.557569980621338 sec\n",
            "\n",
            "Epoch 83 Batch 0 Loss 0.0022\n",
            "Epoch 83 Loss 0.0028\n",
            "Time taken for 1 epoch 5.212835788726807 sec\n",
            "\n",
            "Epoch 84 Batch 0 Loss 0.0047\n",
            "Epoch 84 Loss 0.0034\n",
            "Time taken for 1 epoch 5.561614990234375 sec\n",
            "\n",
            "Epoch 85 Batch 0 Loss 0.0028\n",
            "Epoch 85 Loss 0.0034\n",
            "Time taken for 1 epoch 5.210094213485718 sec\n",
            "\n",
            "Epoch 86 Batch 0 Loss 0.0021\n",
            "Epoch 86 Loss 0.0033\n",
            "Time taken for 1 epoch 5.551290273666382 sec\n",
            "\n",
            "Epoch 87 Batch 0 Loss 0.0041\n",
            "Epoch 87 Loss 0.0028\n",
            "Time taken for 1 epoch 5.213425874710083 sec\n",
            "\n",
            "Epoch 88 Batch 0 Loss 0.0025\n",
            "Epoch 88 Loss 0.0027\n",
            "Time taken for 1 epoch 5.547545909881592 sec\n",
            "\n",
            "Epoch 89 Batch 0 Loss 0.0010\n",
            "Epoch 89 Loss 0.0028\n",
            "Time taken for 1 epoch 5.215494155883789 sec\n",
            "\n",
            "Epoch 90 Batch 0 Loss 0.0038\n",
            "Epoch 90 Loss 0.0026\n",
            "Time taken for 1 epoch 5.554335355758667 sec\n",
            "\n",
            "Epoch 91 Batch 0 Loss 0.0025\n",
            "Epoch 91 Loss 0.0025\n",
            "Time taken for 1 epoch 5.184282064437866 sec\n",
            "\n",
            "Epoch 92 Batch 0 Loss 0.0018\n",
            "Epoch 92 Loss 0.0023\n",
            "Time taken for 1 epoch 5.561208009719849 sec\n",
            "\n",
            "Epoch 93 Batch 0 Loss 0.0026\n",
            "Epoch 93 Loss 0.0024\n",
            "Time taken for 1 epoch 5.166708469390869 sec\n",
            "\n",
            "Epoch 94 Batch 0 Loss 0.0025\n",
            "Epoch 94 Loss 0.0021\n",
            "Time taken for 1 epoch 5.538448333740234 sec\n",
            "\n",
            "Epoch 95 Batch 0 Loss 0.0038\n",
            "Epoch 95 Loss 0.0021\n",
            "Time taken for 1 epoch 5.21311092376709 sec\n",
            "\n",
            "Epoch 96 Batch 0 Loss 0.0044\n",
            "Epoch 96 Loss 0.0023\n",
            "Time taken for 1 epoch 5.581347227096558 sec\n",
            "\n",
            "Epoch 97 Batch 0 Loss 0.0014\n",
            "Epoch 97 Loss 0.0027\n",
            "Time taken for 1 epoch 5.1825478076934814 sec\n",
            "\n",
            "Epoch 98 Batch 0 Loss 0.0025\n",
            "Epoch 98 Loss 0.0029\n",
            "Time taken for 1 epoch 5.56815505027771 sec\n",
            "\n",
            "Epoch 99 Batch 0 Loss 0.0035\n",
            "Epoch 99 Loss 0.0025\n",
            "Time taken for 1 epoch 5.19766640663147 sec\n",
            "\n",
            "Epoch 100 Batch 0 Loss 0.0014\n",
            "Epoch 100 Loss 0.0025\n",
            "Time taken for 1 epoch 5.550718069076538 sec\n",
            "\n"
          ],
          "name": "stdout"
        }
      ]
    },
    {
      "cell_type": "code",
      "metadata": {
        "id": "wy-2L3xk_cHH",
        "colab_type": "code",
        "colab": {}
      },
      "source": [
        ""
      ],
      "execution_count": null,
      "outputs": []
    },
    {
      "cell_type": "code",
      "metadata": {
        "id": "EbQpyYs13jF_",
        "colab_type": "code",
        "colab": {}
      },
      "source": [
        "def evaluate(sentence):\n",
        "  attention_plot = np.zeros((max_length_targ, max_length_inp))\n",
        "\n",
        "  sentence = preprocess_sentence(sentence)\n",
        "\n",
        "  inputs = [inp_lang.word_index[i] for i in sentence.split(' ')]\n",
        "  inputs = tf.keras.preprocessing.sequence.pad_sequences([inputs],\n",
        "                                                         maxlen=max_length_inp,\n",
        "                                                         padding='post')\n",
        "  inputs = tf.convert_to_tensor(inputs)\n",
        "\n",
        "  result = ''\n",
        "\n",
        "  hidden = [tf.zeros((1, units))]\n",
        "  enc_out, enc_hidden = encoder(inputs, hidden)\n",
        "\n",
        "  dec_hidden = enc_hidden\n",
        "  dec_input = tf.expand_dims([targ_lang.word_index['<start>']], 0)\n",
        "\n",
        "  for t in range(max_length_targ):\n",
        "    predictions, dec_hidden, attention_weights = decoder(dec_input,\n",
        "                                                         dec_hidden,\n",
        "                                                         enc_out)\n",
        "\n",
        "    # storing the attention weights to plot later on\n",
        "    attention_weights = tf.reshape(attention_weights, (-1, ))\n",
        "    attention_plot[t] = attention_weights.numpy()\n",
        "\n",
        "    predicted_id = tf.argmax(predictions[0]).numpy()\n",
        "\n",
        "    result += targ_lang.index_word[predicted_id] + ' '\n",
        "\n",
        "    if targ_lang.index_word[predicted_id] == '<end>':\n",
        "      return result, sentence, attention_plot\n",
        "\n",
        "    # the predicted ID is fed back into the model\n",
        "    dec_input = tf.expand_dims([predicted_id], 0)\n",
        "\n",
        "  return result, sentence, attention_plot"
      ],
      "execution_count": 60,
      "outputs": []
    },
    {
      "cell_type": "code",
      "metadata": {
        "id": "aUqXAd9ZEZVE",
        "colab_type": "code",
        "colab": {}
      },
      "source": [
        ""
      ],
      "execution_count": null,
      "outputs": []
    },
    {
      "cell_type": "code",
      "metadata": {
        "id": "s5hQWlbN3jGF",
        "colab_type": "code",
        "colab": {}
      },
      "source": [
        "# function for plotting the attention weights\n",
        "def plot_attention(attention, sentence, predicted_sentence):\n",
        "  fig = plt.figure(figsize=(10,10))\n",
        "  ax = fig.add_subplot(1, 1, 1)\n",
        "  ax.matshow(attention, cmap='viridis')\n",
        "\n",
        "  fontdict = {'fontsize': 14}\n",
        "\n",
        "  ax.set_xticklabels([''] + sentence, fontdict=fontdict, rotation=90)\n",
        "  ax.set_yticklabels([''] + predicted_sentence, fontdict=fontdict)\n",
        "\n",
        "  ax.xaxis.set_major_locator(ticker.MultipleLocator(1))\n",
        "  ax.yaxis.set_major_locator(ticker.MultipleLocator(1))\n",
        "\n",
        "  plt.show()"
      ],
      "execution_count": 61,
      "outputs": []
    },
    {
      "cell_type": "code",
      "metadata": {
        "id": "sl9zUHzg3jGI",
        "colab_type": "code",
        "colab": {}
      },
      "source": [
        "def translate(sentence):\n",
        "  result, sentence, attention_plot = evaluate(sentence)\n",
        "\n",
        "  print('Input: %s' % (sentence))\n",
        "  print('Predicted translation: {}'.format(result))\n",
        "\n",
        "  attention_plot = attention_plot[:len(result.split(' ')), :len(sentence.split(' '))]\n",
        "  plot_attention(attention_plot, sentence.split(' '), result.split(' '))"
      ],
      "execution_count": 62,
      "outputs": []
    },
    {
      "cell_type": "code",
      "metadata": {
        "id": "RU-k7agsVuop",
        "colab_type": "code",
        "colab": {
          "base_uri": "https://localhost:8080/",
          "height": 34
        },
        "outputId": "5cd65480-fe81-4a7c-f0e8-6710a11e5ec1"
      },
      "source": [
        "print(df2['question'][100])\n"
      ],
      "execution_count": 87,
      "outputs": [
        {
          "output_type": "stream",
          "text": [
            "<start> What is the name of the different car makers who produced a car in 1970? <end>\n"
          ],
          "name": "stdout"
        }
      ]
    },
    {
      "cell_type": "code",
      "metadata": {
        "id": "JZ61s6YhEl7E",
        "colab_type": "code",
        "colab": {
          "base_uri": "https://localhost:8080/",
          "height": 705
        },
        "outputId": "8a994f0b-615f-4265-df1b-c11f512c1a61"
      },
      "source": [
        "translate(u'What is the name of the different car makers who produced a car in 1970')"
      ],
      "execution_count": 88,
      "outputs": [
        {
          "output_type": "stream",
          "text": [
            "Input: <start> what is the name of the different car makers who produced a car in <end>\n",
            "Predicted translation: select distinct t1.maker from car_makers as t1 join model_list as t2 on t1.id = t2.maker group by t1.id having count(*) >= 2 intersect select distinct t1.maker from car_makers as t1 join model_list as t2 on t1.id = t2.maker group by t1.id having count(*) >= 2 intersect select distinct t1.maker from car_makers as t1 join model_list as t2 on t1.id = \n"
          ],
          "name": "stdout"
        },
        {
          "output_type": "display_data",
          "data": {
            "image/png": "[encoded data removed]",
            "text/plain": [
              "<Figure size 720x720 with 1 Axes>"
            ]
          },
          "metadata": {
            "tags": [],
            "needs_background": "light"
          }
        }
      ]
    },
    {
      "cell_type": "code",
      "metadata": {
        "id": "dZgueNqWEqfG",
        "colab_type": "code",
        "colab": {}
      },
      "source": [
        ""
      ],
      "execution_count": null,
      "outputs": []
    },
    {
      "cell_type": "markdown",
      "metadata": {
        "id": "tYNt9asQJglX",
        "colab_type": "text"
      },
      "source": [
        ""
      ]
    },
    {
      "cell_type": "code",
      "metadata": {
        "id": "-PESIgRCKHUs",
        "colab_type": "code",
        "colab": {}
      },
      "source": [
        ""
      ],
      "execution_count": null,
      "outputs": []
    }
  ]
}